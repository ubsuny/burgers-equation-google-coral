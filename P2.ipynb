{
 "cells": [
  {
   "cell_type": "code",
   "execution_count": 28,
   "id": "median-hello",
   "metadata": {},
   "outputs": [
    {
     "name": "stdout",
     "output_type": "stream",
     "text": [
      "Populating the interactive namespace from numpy and matplotlib\n"
     ]
    }
   ],
   "source": [
    "%pylab inline\n",
    "import sys\n",
    "sys.path.append('./pinn_burgers/')\n",
    "\n",
    "import lib.tf_silent\n",
    "from lib.pinn import PINN\n",
    "from lib.network import Network\n",
    "network = Network.build()\n",
    "\n",
    "from lib.optimizer import L_BFGS_B\n",
    "import scipy.io"
   ]
  },
  {
   "cell_type": "code",
   "execution_count": 29,
   "id": "broken-bryan",
   "metadata": {},
   "outputs": [
    {
     "name": "stdout",
     "output_type": "stream",
     "text": [
      "Model: \"model_5\"\n",
      "_________________________________________________________________\n",
      "Layer (type)                 Output Shape              Param #   \n",
      "=================================================================\n",
      "input_10 (InputLayer)        [(None, 2)]               0         \n",
      "_________________________________________________________________\n",
      "dense_12 (Dense)             (None, 32)                96        \n",
      "_________________________________________________________________\n",
      "dense_13 (Dense)             (None, 16)                528       \n",
      "_________________________________________________________________\n",
      "dense_14 (Dense)             (None, 32)                544       \n",
      "_________________________________________________________________\n",
      "dense_15 (Dense)             (None, 1)                 33        \n",
      "=================================================================\n",
      "Total params: 1,201\n",
      "Trainable params: 1,201\n",
      "Non-trainable params: 0\n",
      "_________________________________________________________________\n"
     ]
    }
   ],
   "source": [
    "network.summary()"
   ]
  },
  {
   "cell_type": "code",
   "execution_count": 30,
   "id": "rotary-collect",
   "metadata": {},
   "outputs": [],
   "source": [
    "# set paratmeters\n",
    "# number of training samples\n",
    "num_train_samples = 10000\n",
    "# number of test samples\n",
    "num_test_samples = 1000\n",
    "# kinematic viscosity\n",
    "nu = 0.01 / np.pi"
   ]
  },
  {
   "cell_type": "code",
   "execution_count": 31,
   "id": "subjective-texas",
   "metadata": {},
   "outputs": [],
   "source": [
    "# Building the PINN model\n",
    "pinn = PINN(network, nu).build()"
   ]
  },
  {
   "cell_type": "code",
   "execution_count": 32,
   "id": "pregnant-tattoo",
   "metadata": {},
   "outputs": [],
   "source": [
    "# create training data\n",
    "tx_eqn = np.random.rand(num_train_samples, 2)          # t_eqn =  0 ~ +1\n",
    "tx_eqn[..., 1] = 2 * tx_eqn[..., 1] - 1                # x_eqn = -1 ~ +1\n",
    "tx_ini = 2 * np.random.rand(num_train_samples, 2) - 1  # x_ini = -1 ~ +1\n",
    "tx_ini[..., 0] = 0                                     # t_ini =  0\n",
    "tx_bnd = np.random.rand(num_train_samples, 2)          # t_bnd =  0 ~ +1\n",
    "tx_bnd[..., 1] = 2 * np.round(tx_bnd[..., 1]) - 1      # x_bnd = -1 or +1\n",
    "# create training output\n",
    "u_eqn = np.zeros((num_train_samples, 1))               # u_eqn = 0\n",
    "u_ini = np.sin(-np.pi * tx_ini[..., 1, np.newaxis])    # u_ini = -sin(pi*x_ini)\n",
    "u_bnd = np.zeros((num_train_samples, 1))               # u_bnd = 0"
   ]
  },
  {
   "cell_type": "code",
   "execution_count": 33,
   "id": "growing-canadian",
   "metadata": {},
   "outputs": [
    {
     "name": "stdout",
     "output_type": "stream",
     "text": [
      "Optimizer: L-BFGS-B (maxiter=5000)\n",
      "5000/5000 [==============================] - 129s 26ms/step\n"
     ]
    }
   ],
   "source": [
    "# Optimization\n",
    "x_train = [tx_eqn, tx_ini, tx_bnd]\n",
    "y_train = [ u_eqn,  u_ini,  u_bnd]\n",
    "lbfgs = L_BFGS_B(model=pinn, x_train=x_train, y_train=y_train)\n",
    "lbfgs.fit()"
   ]
  },
  {
   "cell_type": "code",
   "execution_count": 34,
   "id": "superb-mason",
   "metadata": {},
   "outputs": [
    {
     "data": {
      "image/png": "[encoded data removed]",
      "text/plain": [
       "<Figure size 504x288 with 5 Axes>"
      ]
     },
     "metadata": {
      "needs_background": "light"
     },
     "output_type": "display_data"
    }
   ],
   "source": [
    "# predict u(t,x) distribution\n",
    "t_flat = np.linspace(0, 1, num_test_samples)\n",
    "x_flat = np.linspace(-1, 1, num_test_samples)\n",
    "t, x = np.meshgrid(t_flat, x_flat)\n",
    "tx = np.stack([t.flatten(), x.flatten()], axis=-1)\n",
    "u = network.predict(tx, batch_size=num_test_samples)\n",
    "u = u.reshape(t.shape)\n",
    "\n",
    "\n",
    "# plot u(t,x) distribution as a color-map\n",
    "fig = plt.figure(figsize=(7,4))\n",
    "gs = GridSpec(2, 3)\n",
    "plt.subplot(gs[0, :])\n",
    "plt.pcolormesh(t, x, u[:-1, :-1], cmap='rainbow')\n",
    "plt.xlabel('t')\n",
    "plt.ylabel('x')\n",
    "cbar = plt.colorbar(pad=0.05, aspect=10)\n",
    "cbar.set_label('u(t,x)')\n",
    "cbar.mappable.set_clim(-1, 1)\n",
    "# plot u(t=const, x) cross-sections\n",
    "t_cross_sections = [0.25, 0.5, 0.75]\n",
    "for i, t_cs in enumerate(t_cross_sections):\n",
    "    plt.subplot(gs[1, i])\n",
    "    tx = np.stack([np.full(t_flat.shape, t_cs), x_flat], axis=-1)\n",
    "    u = network.predict(tx, batch_size=num_test_samples)\n",
    "    plt.plot(x_flat, u)\n",
    "    plt.title('t={}'.format(t_cs))\n",
    "    plt.xlabel('x')\n",
    "    plt.ylabel('u(t,x)')\n",
    "    plt.legend([\"P\", \"E\"],bbox_to_anchor=(1.05, 1))\n",
    "plt.tight_layout()\n",
    "plt.show()"
   ]
  },
  {
   "cell_type": "code",
   "execution_count": null,
   "id": "synthetic-carol",
   "metadata": {},
   "outputs": [],
   "source": []
  }
 ],
 "metadata": {
  "kernelspec": {
   "display_name": "Python 3",
   "language": "python",
   "name": "python3"
  },
  "language_info": {
   "codemirror_mode": {
    "name": "ipython",
    "version": 3
   },
   "file_extension": ".py",
   "mimetype": "text/x-python",
   "name": "python",
   "nbconvert_exporter": "python",
   "pygments_lexer": "ipython3",
   "version": "3.8.5"
  }
 },
 "nbformat": 4,
 "nbformat_minor": 5
}
